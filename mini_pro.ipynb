{
 "cells": [
  {
   "cell_type": "code",
   "execution_count": 9,
   "metadata": {},
   "outputs": [],
   "source": [
    "import requests\n",
    "from bs4 import BeautifulSoup"
   ]
  },
  {
   "cell_type": "code",
   "execution_count": 10,
   "metadata": {},
   "outputs": [],
   "source": [
    "def load(url):\n",
    "    try:\n",
    "        page=requests.get(url)\n",
    "        if page.status_code==200:\n",
    "            print('page loaded')\n",
    "            data=BeautifulSoup(page.text,'lxml') #func call\n",
    "            return data\n",
    "        else:\n",
    "            print(\"error get page\",page.status_code)\n",
    "    except Exception as e:\n",
    "        print(e)"
   ]
  },
  {
   "cell_type": "code",
   "execution_count": 11,
   "metadata": {},
   "outputs": [
    {
     "name": "stdout",
     "output_type": "stream",
     "text": [
      "page loaded\n"
     ]
    }
   ],
   "source": [
    "url=\"https://www.jiosaavn.com/new-releases\"\n",
    "#url='https://www.jiosaavn.com/new-releases/english'\n",
    "#url='https://www.flipkart.com/books-store'\n",
    "info=load(url)    "
   ]
  },
  {
   "cell_type": "code",
   "execution_count": 12,
   "metadata": {},
   "outputs": [
    {
     "data": {
      "text/plain": [
       "[<img src=\"http://b.scorecardresearch.com/p?c1=7&amp;c2=10002439&amp;c3=1000001&amp;cv=2.0&amp;cj=1\"/>,\n",
       " <img class=\"album-art\" src=\"https://c.saavncdn.com/153/Super-30-Hindi-2019-20190615103056-150x150.jpg\"/>,\n",
       " <img class=\"album-art\" src=\"https://c.saavncdn.com/807/Kabir-Singh-Hindi-2019-20190614075009-150x150.jpg\"/>,\n",
       " <img class=\"album-art\" src=\"https://c.saavncdn.com/596/Mafiyaan-Hindi-2019-20190604230849-150x150.jpg\"/>,\n",
       " <img class=\"album-art\" src=\"https://c.saavncdn.com/142/Article-15-Hindi-2019-20190614164612-150x150.jpg\"/>,\n",
       " <img class=\"album-art\" src=\"https://c.saavncdn.com/000/Udhal-Ho-From-Malaal--Hindi-2019-20190612071219-150x150.jpg\"/>,\n",
       " <img class=\"album-art\" src=\"https://c.saavncdn.com/133/The-Extraordinary-Journey-Of-The-Fakir-Hindi-2019-20190611165224-150x150.jpg\"/>,\n",
       " <img class=\"album-art\" src=\"https://c.saavncdn.com/784/Bharat-Hindi-2019-20190517100839-150x150.jpg\"/>,\n",
       " <img class=\"album-art\" src=\"https://c.saavncdn.com/211/Dil-Aziz-Hindi-2019-20190426075752-150x150.jpg\"/>,\n",
       " <img class=\"album-art\" src=\"https://c.saavncdn.com/401/Sock-Them-Hindi-2019-20190603133106-150x150.jpg\"/>,\n",
       " <img class=\"album-art\" src=\"https://c.saavncdn.com/134/Udd-Chala-English-2019-20190531112259-150x150.jpg\"/>,\n",
       " <img class=\"album-art\" src=\"https://c.saavncdn.com/899/Sab-Sahi-Hai-Bro-Inspired-by-Aladdin--Hindi-2019-20190522230754-150x150.jpg\"/>,\n",
       " <img class=\"album-art\" src=\"https://c.saavncdn.com/759/Aila-Re-From-Malaal--Hindi-2019-20190528231527-150x150.jpg\"/>,\n",
       " <img class=\"album-art\" src=\"https://c.saavncdn.com/222/Dheeme-Dheeme-Hindi-2019-20190521143140-150x150.jpg\"/>,\n",
       " <img class=\"album-art\" src=\"https://c.saavncdn.com/490/Freeverse-FEAST-Explicit--English-2019-20190606104907-150x150.jpg\"/>,\n",
       " <img class=\"album-art\" src=\"https://c.saavncdn.com/670/Sajna-Ve-Hindi-2019-20190518230108-150x150.jpg\"/>,\n",
       " <img class=\"album-art\" src=\"https://c.saavncdn.com/789/Naina-Hindi-2019-20190613063359-150x150.jpg\"/>,\n",
       " <img class=\"album-art\" src=\"https://c.saavncdn.com/671/Kudiye-Ni-Hindi-2019-20190531024538-150x150.jpg\"/>,\n",
       " <img class=\"album-art\" src=\"https://c.saavncdn.com/777/De-De-Pyaar-De-Hindi-2019-20190515024538-150x150.jpg\"/>,\n",
       " <img class=\"album-art\" src=\"https://c.saavncdn.com/248/Mama-Mia-Hindi-2019-20190529003311-150x150.jpg\"/>,\n",
       " <img class=\"album-art\" src=\"https://c.saavncdn.com/865/Student-of-the-Year-2-Hindi-2019-20190426114149-150x150.jpg\"/>,\n",
       " <img class=\"album-art\" src=\"https://c.saavncdn.com/138/Fakira-by-Sanam-Puri-Hindi-2019-20190606190049-150x150.jpg\"/>,\n",
       " <img class=\"album-art\" src=\"https://c.saavncdn.com/126/Khamoshi-Hindi-2019-20190603121448-150x150.jpg\"/>,\n",
       " <img class=\"album-art\" src=\"https://c.saavncdn.com/400/Fanah-Hindi-2019-20190529122906-150x150.jpg\"/>,\n",
       " <img class=\"album-art\" src=\"https://c.saavncdn.com/647/Gully-Gang-Cypher-Hindi-2019-20190520072721-150x150.jpg\"/>,\n",
       " <img class=\"album-art\" src=\"https://c.saavncdn.com/121/Dhoop-Mein-Bhi-Baarishein-Hindi-2019-20190530193054-150x150.jpg\"/>,\n",
       " <img class=\"album-art\" src=\"https://c.saavncdn.com/048/Main-Wahi-Hoon-Hindi-2019-20190515194602-150x150.jpg\"/>,\n",
       " <img class=\"album-art\" src=\"https://c.saavncdn.com/251/India-s-Most-Wanted-Hindi-2019-20190524091021-150x150.jpg\"/>,\n",
       " <img class=\"album-art\" src=\"https://c.saavncdn.com/043/Haaye-Oye-Hindi-2019-20190404053409-150x150.jpg\"/>,\n",
       " <img class=\"album-art\" src=\"https://c.saavncdn.com/948/Fastey-Fasaatey-Hindi-2019-20190528170908-150x150.jpg\"/>,\n",
       " <img class=\"album-art\" src=\"https://c.saavncdn.com/784/Kalank-Hindi-2019-20190414135616-150x150.jpg\"/>,\n",
       " <img class=\"album-art\" src=\"https://c.saavncdn.com/079/Farishta-Hindi-2019-20190524044142-150x150.jpg\"/>,\n",
       " <img class=\"album-art\" src=\"https://c.saavncdn.com/983/Kabhi-Jo-Badal-Barse-Dil-De-Diya-Hai-From-T-Series-Mixtape-Season-2--Hindi-2019-20190520024538-150x150.jpg\"/>,\n",
       " <img class=\"album-art\" src=\"https://c.saavncdn.com/753/PM-Narendra-Modi-Hindi-2019-20190520064313-150x150.jpg\"/>,\n",
       " <img class=\"album-art\" src=\"https://c.saavncdn.com/715/Notebook-Hindi-2019-20190311104039-150x150.jpg\"/>,\n",
       " <img class=\"album-art\" src=\"https://c.saavncdn.com/693/Kesari-Hindi-2019-20190415215737-150x150.jpg\"/>,\n",
       " <img class=\"album-art\" src=\"https://c.saavncdn.com/932/Mirzaye-Hindi-2019-20190312230349-150x150.jpg\"/>,\n",
       " <img class=\"album-art\" src=\"https://c.saavncdn.com/426/Main-Rahoon-Ya-Na-Rahoon-Dil-Kyun-Yeh-Mera-From-T-Series-Mixtape-Season-2--Hindi-2019-20190513104006-150x150.jpg\"/>,\n",
       " <img class=\"album-art\" src=\"https://c.saavncdn.com/223/Skrrt-Karenge-Hindi-2019-20190429151205-150x150.jpg\"/>,\n",
       " <img class=\"album-art\" src=\"https://c.saavncdn.com/929/Song-Change-Hindi-2019-20190507191846-150x150.jpg\"/>,\n",
       " <img class=\"album-art\" src=\"https://c.saavncdn.com/701/Music-Teacher-Hindi-2019-20190418130138-150x150.jpg\"/>,\n",
       " <img class=\"album-art\" src=\"https://c.saavncdn.com/099/Tera-Yaar-Hoon-Main-Yaar-Mod-Do-From-T-Series-Mixtape-Season-2--Hindi-2019-20190510024538-150x150.jpg\"/>,\n",
       " <img class=\"album-art\" src=\"https://c.saavncdn.com/995/Hor-Pila-Punjabi-2019-20190510095733-150x150.jpg\"/>,\n",
       " <img class=\"album-art\" src=\"https://c.saavncdn.com/855/Blank-Hindi-2019-20190420210801-150x150.jpg\"/>,\n",
       " <img class=\"album-art\" src=\"https://c.saavncdn.com/141/One-India-My-India-Shailendra-Singh-amp-Mithoon-S-Anthem4Good-English-2019-20190509190907-150x150.jpg\"/>,\n",
       " <img class=\"album-art\" src=\"https://c.saavncdn.com/287/Tu-Hi-Tu-Hindi-2019-20190509173501-150x150.jpg\"/>,\n",
       " <img class=\"album-art\" src=\"https://c.saavncdn.com/464/Har-Ghoont-Mein-Swag-Hindi-2019-20190408075019-150x150.jpg\"/>,\n",
       " <img class=\"album-art\" src=\"https://c.saavncdn.com/798/Kaash-Aisa-Hota-Single-Hindi-2019-20190319082522-150x150.jpg\"/>,\n",
       " <img class=\"album-art\" src=\"https://c.saavncdn.com/481/Darkhaast-Aankhon-Mein-Teri-From-T-Series-Mixtape-Season-2--Hindi-2019-20190502024538-150x150.jpg\"/>,\n",
       " <img class=\"album-art\" src=\"https://c.saavncdn.com/488/Pyaar-Ho-Gaya-Hindi-2019-20190507231533-150x150.jpg\"/>,\n",
       " <img class=\"album-art\" src=\"https://c.saavncdn.com/455/Rani-Teri-Vodka-Punjabi-2019-20190426034810-150x150.jpg\"/>]"
      ]
     },
     "execution_count": 12,
     "metadata": {},
     "output_type": "execute_result"
    }
   ],
   "source": [
    "info.find_all('img')"
   ]
  },
  {
   "cell_type": "code",
   "execution_count": 13,
   "metadata": {},
   "outputs": [
    {
     "name": "stdout",
     "output_type": "stream",
     "text": [
      "['http://b.scorecardresearch.com/p?c1=7&c2=10002439&c3=1000001&cv=2.0&cj=1', 'https://c.saavncdn.com/153/Super-30-Hindi-2019-20190615103056-150x150.jpg', 'https://c.saavncdn.com/807/Kabir-Singh-Hindi-2019-20190614075009-150x150.jpg', 'https://c.saavncdn.com/596/Mafiyaan-Hindi-2019-20190604230849-150x150.jpg', 'https://c.saavncdn.com/142/Article-15-Hindi-2019-20190614164612-150x150.jpg', 'https://c.saavncdn.com/000/Udhal-Ho-From-Malaal--Hindi-2019-20190612071219-150x150.jpg', 'https://c.saavncdn.com/133/The-Extraordinary-Journey-Of-The-Fakir-Hindi-2019-20190611165224-150x150.jpg', 'https://c.saavncdn.com/784/Bharat-Hindi-2019-20190517100839-150x150.jpg', 'https://c.saavncdn.com/211/Dil-Aziz-Hindi-2019-20190426075752-150x150.jpg', 'https://c.saavncdn.com/401/Sock-Them-Hindi-2019-20190603133106-150x150.jpg', 'https://c.saavncdn.com/134/Udd-Chala-English-2019-20190531112259-150x150.jpg', 'https://c.saavncdn.com/899/Sab-Sahi-Hai-Bro-Inspired-by-Aladdin--Hindi-2019-20190522230754-150x150.jpg', 'https://c.saavncdn.com/759/Aila-Re-From-Malaal--Hindi-2019-20190528231527-150x150.jpg', 'https://c.saavncdn.com/222/Dheeme-Dheeme-Hindi-2019-20190521143140-150x150.jpg', 'https://c.saavncdn.com/490/Freeverse-FEAST-Explicit--English-2019-20190606104907-150x150.jpg', 'https://c.saavncdn.com/670/Sajna-Ve-Hindi-2019-20190518230108-150x150.jpg', 'https://c.saavncdn.com/789/Naina-Hindi-2019-20190613063359-150x150.jpg', 'https://c.saavncdn.com/671/Kudiye-Ni-Hindi-2019-20190531024538-150x150.jpg', 'https://c.saavncdn.com/777/De-De-Pyaar-De-Hindi-2019-20190515024538-150x150.jpg', 'https://c.saavncdn.com/248/Mama-Mia-Hindi-2019-20190529003311-150x150.jpg', 'https://c.saavncdn.com/865/Student-of-the-Year-2-Hindi-2019-20190426114149-150x150.jpg', 'https://c.saavncdn.com/138/Fakira-by-Sanam-Puri-Hindi-2019-20190606190049-150x150.jpg', 'https://c.saavncdn.com/126/Khamoshi-Hindi-2019-20190603121448-150x150.jpg', 'https://c.saavncdn.com/400/Fanah-Hindi-2019-20190529122906-150x150.jpg', 'https://c.saavncdn.com/647/Gully-Gang-Cypher-Hindi-2019-20190520072721-150x150.jpg', 'https://c.saavncdn.com/121/Dhoop-Mein-Bhi-Baarishein-Hindi-2019-20190530193054-150x150.jpg', 'https://c.saavncdn.com/048/Main-Wahi-Hoon-Hindi-2019-20190515194602-150x150.jpg', 'https://c.saavncdn.com/251/India-s-Most-Wanted-Hindi-2019-20190524091021-150x150.jpg', 'https://c.saavncdn.com/043/Haaye-Oye-Hindi-2019-20190404053409-150x150.jpg', 'https://c.saavncdn.com/948/Fastey-Fasaatey-Hindi-2019-20190528170908-150x150.jpg', 'https://c.saavncdn.com/784/Kalank-Hindi-2019-20190414135616-150x150.jpg', 'https://c.saavncdn.com/079/Farishta-Hindi-2019-20190524044142-150x150.jpg', 'https://c.saavncdn.com/983/Kabhi-Jo-Badal-Barse-Dil-De-Diya-Hai-From-T-Series-Mixtape-Season-2--Hindi-2019-20190520024538-150x150.jpg', 'https://c.saavncdn.com/753/PM-Narendra-Modi-Hindi-2019-20190520064313-150x150.jpg', 'https://c.saavncdn.com/715/Notebook-Hindi-2019-20190311104039-150x150.jpg', 'https://c.saavncdn.com/693/Kesari-Hindi-2019-20190415215737-150x150.jpg', 'https://c.saavncdn.com/932/Mirzaye-Hindi-2019-20190312230349-150x150.jpg', 'https://c.saavncdn.com/426/Main-Rahoon-Ya-Na-Rahoon-Dil-Kyun-Yeh-Mera-From-T-Series-Mixtape-Season-2--Hindi-2019-20190513104006-150x150.jpg', 'https://c.saavncdn.com/223/Skrrt-Karenge-Hindi-2019-20190429151205-150x150.jpg', 'https://c.saavncdn.com/929/Song-Change-Hindi-2019-20190507191846-150x150.jpg', 'https://c.saavncdn.com/701/Music-Teacher-Hindi-2019-20190418130138-150x150.jpg', 'https://c.saavncdn.com/099/Tera-Yaar-Hoon-Main-Yaar-Mod-Do-From-T-Series-Mixtape-Season-2--Hindi-2019-20190510024538-150x150.jpg', 'https://c.saavncdn.com/995/Hor-Pila-Punjabi-2019-20190510095733-150x150.jpg', 'https://c.saavncdn.com/855/Blank-Hindi-2019-20190420210801-150x150.jpg', 'https://c.saavncdn.com/141/One-India-My-India-Shailendra-Singh-amp-Mithoon-S-Anthem4Good-English-2019-20190509190907-150x150.jpg', 'https://c.saavncdn.com/287/Tu-Hi-Tu-Hindi-2019-20190509173501-150x150.jpg', 'https://c.saavncdn.com/464/Har-Ghoont-Mein-Swag-Hindi-2019-20190408075019-150x150.jpg', 'https://c.saavncdn.com/798/Kaash-Aisa-Hota-Single-Hindi-2019-20190319082522-150x150.jpg', 'https://c.saavncdn.com/481/Darkhaast-Aankhon-Mein-Teri-From-T-Series-Mixtape-Season-2--Hindi-2019-20190502024538-150x150.jpg', 'https://c.saavncdn.com/488/Pyaar-Ho-Gaya-Hindi-2019-20190507231533-150x150.jpg', 'https://c.saavncdn.com/455/Rani-Teri-Vodka-Punjabi-2019-20190426034810-150x150.jpg']\n",
      "51\n"
     ]
    }
   ],
   "source": [
    "import shutil\n",
    "links=[image.attrs.get('src') for image in info.find_all('img')]\n",
    "print(links)\n",
    "print(len(links))"
   ]
  },
  {
   "cell_type": "code",
   "execution_count": 14,
   "metadata": {},
   "outputs": [
    {
     "name": "stdout",
     "output_type": "stream",
     "text": [
      "http://b.scorecardresearch.com/p?c1=7&c2=10002439&c3=1000001&cv=2.0&cj=1\n",
      "https://c.saavncdn.com/153/Super-30-Hindi-2019-20190615103056-150x150.jpg\n",
      "https://c.saavncdn.com/807/Kabir-Singh-Hindi-2019-20190614075009-150x150.jpg\n",
      "https://c.saavncdn.com/596/Mafiyaan-Hindi-2019-20190604230849-150x150.jpg\n",
      "https://c.saavncdn.com/142/Article-15-Hindi-2019-20190614164612-150x150.jpg\n",
      "https://c.saavncdn.com/000/Udhal-Ho-From-Malaal--Hindi-2019-20190612071219-150x150.jpg\n",
      "https://c.saavncdn.com/133/The-Extraordinary-Journey-Of-The-Fakir-Hindi-2019-20190611165224-150x150.jpg\n",
      "https://c.saavncdn.com/784/Bharat-Hindi-2019-20190517100839-150x150.jpg\n",
      "https://c.saavncdn.com/211/Dil-Aziz-Hindi-2019-20190426075752-150x150.jpg\n",
      "https://c.saavncdn.com/401/Sock-Them-Hindi-2019-20190603133106-150x150.jpg\n",
      "https://c.saavncdn.com/134/Udd-Chala-English-2019-20190531112259-150x150.jpg\n",
      "https://c.saavncdn.com/899/Sab-Sahi-Hai-Bro-Inspired-by-Aladdin--Hindi-2019-20190522230754-150x150.jpg\n",
      "https://c.saavncdn.com/759/Aila-Re-From-Malaal--Hindi-2019-20190528231527-150x150.jpg\n",
      "https://c.saavncdn.com/222/Dheeme-Dheeme-Hindi-2019-20190521143140-150x150.jpg\n",
      "https://c.saavncdn.com/490/Freeverse-FEAST-Explicit--English-2019-20190606104907-150x150.jpg\n",
      "https://c.saavncdn.com/670/Sajna-Ve-Hindi-2019-20190518230108-150x150.jpg\n",
      "https://c.saavncdn.com/789/Naina-Hindi-2019-20190613063359-150x150.jpg\n",
      "https://c.saavncdn.com/671/Kudiye-Ni-Hindi-2019-20190531024538-150x150.jpg\n",
      "https://c.saavncdn.com/777/De-De-Pyaar-De-Hindi-2019-20190515024538-150x150.jpg\n",
      "https://c.saavncdn.com/248/Mama-Mia-Hindi-2019-20190529003311-150x150.jpg\n",
      "https://c.saavncdn.com/865/Student-of-the-Year-2-Hindi-2019-20190426114149-150x150.jpg\n",
      "https://c.saavncdn.com/138/Fakira-by-Sanam-Puri-Hindi-2019-20190606190049-150x150.jpg\n",
      "https://c.saavncdn.com/126/Khamoshi-Hindi-2019-20190603121448-150x150.jpg\n",
      "https://c.saavncdn.com/400/Fanah-Hindi-2019-20190529122906-150x150.jpg\n",
      "https://c.saavncdn.com/647/Gully-Gang-Cypher-Hindi-2019-20190520072721-150x150.jpg\n",
      "https://c.saavncdn.com/121/Dhoop-Mein-Bhi-Baarishein-Hindi-2019-20190530193054-150x150.jpg\n",
      "https://c.saavncdn.com/048/Main-Wahi-Hoon-Hindi-2019-20190515194602-150x150.jpg\n",
      "https://c.saavncdn.com/251/India-s-Most-Wanted-Hindi-2019-20190524091021-150x150.jpg\n",
      "https://c.saavncdn.com/043/Haaye-Oye-Hindi-2019-20190404053409-150x150.jpg\n",
      "https://c.saavncdn.com/948/Fastey-Fasaatey-Hindi-2019-20190528170908-150x150.jpg\n",
      "https://c.saavncdn.com/784/Kalank-Hindi-2019-20190414135616-150x150.jpg\n",
      "https://c.saavncdn.com/079/Farishta-Hindi-2019-20190524044142-150x150.jpg\n",
      "https://c.saavncdn.com/983/Kabhi-Jo-Badal-Barse-Dil-De-Diya-Hai-From-T-Series-Mixtape-Season-2--Hindi-2019-20190520024538-150x150.jpg\n",
      "https://c.saavncdn.com/753/PM-Narendra-Modi-Hindi-2019-20190520064313-150x150.jpg\n",
      "https://c.saavncdn.com/715/Notebook-Hindi-2019-20190311104039-150x150.jpg\n",
      "https://c.saavncdn.com/693/Kesari-Hindi-2019-20190415215737-150x150.jpg\n",
      "https://c.saavncdn.com/932/Mirzaye-Hindi-2019-20190312230349-150x150.jpg\n",
      "https://c.saavncdn.com/426/Main-Rahoon-Ya-Na-Rahoon-Dil-Kyun-Yeh-Mera-From-T-Series-Mixtape-Season-2--Hindi-2019-20190513104006-150x150.jpg\n",
      "https://c.saavncdn.com/223/Skrrt-Karenge-Hindi-2019-20190429151205-150x150.jpg\n",
      "https://c.saavncdn.com/929/Song-Change-Hindi-2019-20190507191846-150x150.jpg\n",
      "https://c.saavncdn.com/701/Music-Teacher-Hindi-2019-20190418130138-150x150.jpg\n",
      "https://c.saavncdn.com/099/Tera-Yaar-Hoon-Main-Yaar-Mod-Do-From-T-Series-Mixtape-Season-2--Hindi-2019-20190510024538-150x150.jpg\n",
      "https://c.saavncdn.com/995/Hor-Pila-Punjabi-2019-20190510095733-150x150.jpg\n",
      "https://c.saavncdn.com/855/Blank-Hindi-2019-20190420210801-150x150.jpg\n",
      "https://c.saavncdn.com/141/One-India-My-India-Shailendra-Singh-amp-Mithoon-S-Anthem4Good-English-2019-20190509190907-150x150.jpg\n",
      "https://c.saavncdn.com/287/Tu-Hi-Tu-Hindi-2019-20190509173501-150x150.jpg\n",
      "https://c.saavncdn.com/464/Har-Ghoont-Mein-Swag-Hindi-2019-20190408075019-150x150.jpg\n",
      "https://c.saavncdn.com/798/Kaash-Aisa-Hota-Single-Hindi-2019-20190319082522-150x150.jpg\n",
      "https://c.saavncdn.com/481/Darkhaast-Aankhon-Mein-Teri-From-T-Series-Mixtape-Season-2--Hindi-2019-20190502024538-150x150.jpg\n",
      "https://c.saavncdn.com/488/Pyaar-Ho-Gaya-Hindi-2019-20190507231533-150x150.jpg\n",
      "https://c.saavncdn.com/455/Rani-Teri-Vodka-Punjabi-2019-20190426034810-150x150.jpg\n"
     ]
    }
   ],
   "source": [
    "#def image_download(links):\n",
    " #   img=requests.get(links,stream=True)\n",
    " #   if img.status_code==200:\n",
    "   #     name=im\n",
    "    \n",
    "images = info.find_all('img')\n",
    "\n",
    "for i in images:\n",
    "    print(i.attrs.get('src'))\n",
    "    "
   ]
  },
  {
   "cell_type": "code",
   "execution_count": 15,
   "metadata": {},
   "outputs": [
    {
     "name": "stdout",
     "output_type": "stream",
     "text": [
      "done\n"
     ]
    }
   ],
   "source": [
    "img=requests.get(links[10],stream=True)\n",
    "if img.status_code==200:\n",
    "    with open('image.jpg','wb') as file:\n",
    "        shutil.copyfileobj(img.raw,file)\n",
    "        print('done')\n",
    "else:\n",
    "    print(img.status_code)"
   ]
  },
  {
   "cell_type": "code",
   "execution_count": 26,
   "metadata": {},
   "outputs": [],
   "source": [
    "from datetime import datetime\n",
    "import os\n",
    "def img_down(img_link,folder='images'):\n",
    "    if not os.path.exists(folder):\n",
    "        os.mkdir(folder)\n",
    "    img=requests.get(img_link,stream=True)\n",
    "    if img.status_code==200:\n",
    "        name=f'image_'+str(datetime.timestamp(datetime.now())).replace('.','_')\n",
    "        name=name.replace('.','_')+'.jpg'\n",
    "        print(name)\n",
    "        with open(os.path.join(folder,name),'wb') as file:\n",
    "            shutil.copyfileobj(img.raw,file)\n",
    "            print('done')\n",
    "    else:\n",
    "        print(img.status_code)"
   ]
  },
  {
   "cell_type": "code",
   "execution_count": 27,
   "metadata": {},
   "outputs": [
    {
     "name": "stdout",
     "output_type": "stream",
     "text": [
      "image_1560596753_301009.jpg\n",
      "done\n"
     ]
    }
   ],
   "source": [
    "img_down(links[3])"
   ]
  },
  {
   "cell_type": "code",
   "execution_count": 28,
   "metadata": {},
   "outputs": [
    {
     "name": "stdout",
     "output_type": "stream",
     "text": [
      "image_1560596753_543945.jpg\n",
      "done\n",
      "image_1560596754_374462.jpg\n",
      "done\n",
      "image_1560596755_206409.jpg\n",
      "done\n",
      "image_1560596756_241225.jpg\n",
      "done\n",
      "image_1560596757_271947.jpg\n",
      "done\n",
      "image_1560596758_20832.jpg\n",
      "done\n",
      "image_1560596759_153446.jpg\n",
      "done\n",
      "image_1560596760_070481.jpg\n",
      "done\n",
      "image_1560596760_91022.jpg\n",
      "done\n",
      "image_1560596762_10887.jpg\n",
      "done\n",
      "image_1560596762_994989.jpg\n",
      "done\n",
      "image_1560596764_014118.jpg\n",
      "done\n",
      "image_1560596764_955261.jpg\n",
      "done\n",
      "image_1560596765_632232.jpg\n",
      "done\n",
      "image_1560596766_629915.jpg\n",
      "done\n",
      "image_1560596767_615588.jpg\n",
      "done\n",
      "image_1560596768_492717.jpg\n",
      "done\n",
      "image_1560596769_405012.jpg\n",
      "done\n",
      "image_1560596770_274221.jpg\n",
      "done\n",
      "image_1560596771_157637.jpg\n",
      "done\n",
      "image_1560596772_101627.jpg\n",
      "done\n",
      "image_1560596772_950181.jpg\n",
      "done\n",
      "image_1560596773_805856.jpg\n",
      "done\n",
      "image_1560596774_695222.jpg\n",
      "done\n",
      "image_1560596775_633127.jpg\n",
      "done\n",
      "image_1560596776_586257.jpg\n",
      "done\n",
      "image_1560596777_411119.jpg\n",
      "done\n",
      "image_1560596778_353776.jpg\n",
      "done\n",
      "image_1560596779_096382.jpg\n",
      "done\n",
      "image_1560596780_011197.jpg\n",
      "done\n",
      "image_1560596780_923785.jpg\n",
      "done\n",
      "image_1560596781_809188.jpg\n",
      "done\n",
      "image_1560596782_688916.jpg\n",
      "done\n",
      "image_1560596783_604144.jpg\n",
      "done\n",
      "image_1560596784_982978.jpg\n",
      "done\n",
      "image_1560596785_829501.jpg\n",
      "done\n",
      "image_1560596787_229129.jpg\n",
      "done\n",
      "image_1560596788_175048.jpg\n",
      "done\n",
      "image_1560596789_083786.jpg\n",
      "done\n",
      "image_1560596789_757234.jpg\n",
      "done\n",
      "image_1560596790_607421.jpg\n",
      "done\n",
      "image_1560596791_474359.jpg\n",
      "done\n",
      "image_1560596792_389106.jpg\n",
      "done\n",
      "image_1560596793_272149.jpg\n",
      "done\n",
      "image_1560596794_122145.jpg\n",
      "done\n",
      "image_1560596795_397287.jpg\n",
      "done\n",
      "image_1560596796_366602.jpg\n",
      "done\n",
      "image_1560596797_311327.jpg\n",
      "done\n",
      "image_1560596798_128095.jpg\n",
      "done\n",
      "image_1560596799_055692.jpg\n",
      "done\n",
      "image_1560596799_950108.jpg\n",
      "done\n"
     ]
    }
   ],
   "source": [
    "for link in links:\n",
    "    img_down(link)"
   ]
  },
  {
   "cell_type": "code",
   "execution_count": null,
   "metadata": {},
   "outputs": [],
   "source": []
  }
 ],
 "metadata": {
  "kernelspec": {
   "display_name": "Python 3",
   "language": "python",
   "name": "python3"
  },
  "language_info": {
   "codemirror_mode": {
    "name": "ipython",
    "version": 3
   },
   "file_extension": ".py",
   "mimetype": "text/x-python",
   "name": "python",
   "nbconvert_exporter": "python",
   "pygments_lexer": "ipython3",
   "version": "3.7.0"
  }
 },
 "nbformat": 4,
 "nbformat_minor": 2
}
